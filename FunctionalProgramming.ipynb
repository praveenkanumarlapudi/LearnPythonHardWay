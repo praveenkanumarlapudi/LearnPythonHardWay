{
  "nbformat": 4,
  "nbformat_minor": 0,
  "metadata": {
    "colab": {
      "name": "FunctionalProgramming.ipynb",
      "version": "0.3.2",
      "provenance": [],
      "include_colab_link": true
    },
    "kernelspec": {
      "name": "python3",
      "display_name": "Python 3"
    }
  },
  "cells": [
    {
      "cell_type": "markdown",
      "metadata": {
        "id": "view-in-github",
        "colab_type": "text"
      },
      "source": [
        "[View in Colaboratory](https://colab.research.google.com/github/praveenkanumarlapudi/LearnPythonHardWay/blob/master/FunctionalProgramming.ipynb)"
      ]
    },
    {
      "metadata": {
        "id": "tsu2XTmqKCX0",
        "colab_type": "code",
        "colab": {}
      },
      "cell_type": "code",
      "source": [
        ""
      ],
      "execution_count": 0,
      "outputs": []
    },
    {
      "metadata": {
        "id": "4IgembSOKDYN",
        "colab_type": "text"
      },
      "cell_type": "markdown",
      "source": [
        "# Functional Programming in Python :"
      ]
    },
    {
      "metadata": {
        "id": "Em6kcjaSKKr3",
        "colab_type": "text"
      },
      "cell_type": "markdown",
      "source": [
        "There are 4 different styles of programming techniques\n",
        "\n",
        "\n",
        "1.   Procedural Style\n",
        "2.   Declarative Style\n",
        "3.  Object Oriented Style\n",
        "4.  Functional Style\n",
        "\n",
        "***Procedural Style :*** In this style user would mention list of instructions to be perfomed by a computer \n",
        "Ex : C, Unix commands etc\n",
        "\n",
        "***Declarative Style:*** In Declarative style you would just mention the problem to solve and the implementation will take care of solving the problem. Example : SQL, in SQL you would only mention what you want to do, implementation will take care of weather it should Indexes or Primary Key or etc. to solve the problem.\n",
        "\n",
        "***Object Oriented Style:***  Programs manipulate collection of objects, Objects have state and methods manipulate the state of the objects. Example : Java, Smalltalk\n",
        "\n",
        "***Functional Style:*** In Functional programming a problem is solved using one or more functions. In Fuctional style Output of the program purely depends on input of the program. No state is stored which will affect the output.\n",
        "Example : Scala, Haskell etc. \n"
      ]
    },
    {
      "metadata": {
        "id": "PjEWTIm9K44D",
        "colab_type": "code",
        "colab": {}
      },
      "cell_type": "code",
      "source": [
        ""
      ],
      "execution_count": 0,
      "outputs": []
    },
    {
      "metadata": {
        "id": "o2bc03ZIehLb",
        "colab_type": "text"
      },
      "cell_type": "markdown",
      "source": [
        "***Pure Functions Impure Functions ***\n",
        "\n",
        "---\n",
        "\n"
      ]
    },
    {
      "metadata": {
        "id": "hU02j93oepA0",
        "colab_type": "code",
        "colab": {
          "base_uri": "https://localhost:8080/",
          "height": 34
        },
        "outputId": "bcdcf5d6-4839-4068-d1c7-f12f4e27edd5"
      },
      "cell_type": "code",
      "source": [
        "A = 5\n",
        "\n",
        "def impure_funtion(b):\n",
        "  return A+b\n",
        "\n",
        "def pure_function(a, b):\n",
        "  return a+b\n",
        "\n",
        "\n",
        "impure_funtion(6)  "
      ],
      "execution_count": 8,
      "outputs": [
        {
          "output_type": "execute_result",
          "data": {
            "text/plain": [
              "11"
            ]
          },
          "metadata": {
            "tags": []
          },
          "execution_count": 8
        }
      ]
    },
    {
      "metadata": {
        "id": "7M6pWhixe1w9",
        "colab_type": "code",
        "colab": {
          "base_uri": "https://localhost:8080/",
          "height": 34
        },
        "outputId": "8dc3e8c0-75d1-4347-a733-5ce105ed5354"
      },
      "cell_type": "code",
      "source": [
        "\n",
        "pure_function(6,5)"
      ],
      "execution_count": 9,
      "outputs": [
        {
          "output_type": "execute_result",
          "data": {
            "text/plain": [
              "11"
            ]
          },
          "metadata": {
            "tags": []
          },
          "execution_count": 9
        }
      ]
    },
    {
      "metadata": {
        "id": "0i8vr2xjfVmr",
        "colab_type": "text"
      },
      "cell_type": "markdown",
      "source": [
        "In the above example impure function is a global variable in order to give the results, and pure function is purely operating on inputs provided to it which means there is no ***Side effect*** , in case of impure functions the results is depended on a variable A which is out of scope of this function which can cause the side effect. *This is important property of Functional programming*."
      ]
    },
    {
      "metadata": {
        "id": "gBQXQJhFgZ8M",
        "colab_type": "text"
      },
      "cell_type": "markdown",
      "source": [
        "***Lambda Expression :***\n",
        "   The lambda expression takes in a comma seperated sequences of inputs (like def). Then, immediately following the colon, it returns the expression without using an explicit return statement."
      ]
    },
    {
      "metadata": {
        "id": "6pwIFNWnqHAK",
        "colab_type": "code",
        "colab": {}
      },
      "cell_type": "code",
      "source": [
        "a = lambda a,b:a+b"
      ],
      "execution_count": 0,
      "outputs": []
    },
    {
      "metadata": {
        "id": "zaNsWHyFqa4z",
        "colab_type": "code",
        "colab": {
          "base_uri": "https://localhost:8080/",
          "height": 34
        },
        "outputId": "257c06ca-1aa3-42a1-9af9-ee8c4c1cef99"
      },
      "cell_type": "code",
      "source": [
        "a(5,10)"
      ],
      "execution_count": 11,
      "outputs": [
        {
          "output_type": "execute_result",
          "data": {
            "text/plain": [
              "15"
            ]
          },
          "metadata": {
            "tags": []
          },
          "execution_count": 11
        }
      ]
    },
    {
      "metadata": {
        "id": "ZzppvJlCqcvb",
        "colab_type": "code",
        "colab": {
          "base_uri": "https://localhost:8080/",
          "height": 34
        },
        "outputId": "07a9de29-b887-40c4-e2eb-466eb4b10c3f"
      },
      "cell_type": "code",
      "source": [
        "unsorted = [('b', 6), ('a', 10), ('d', 0), ('c', 4)]\n",
        "sorted(unsorted,key= lambda x:x[1])"
      ],
      "execution_count": 12,
      "outputs": [
        {
          "output_type": "execute_result",
          "data": {
            "text/plain": [
              "[('d', 0), ('c', 4), ('b', 6), ('a', 10)]"
            ]
          },
          "metadata": {
            "tags": []
          },
          "execution_count": 12
        }
      ]
    },
    {
      "metadata": {
        "id": "4d9G4Q6DtA01",
        "colab_type": "text"
      },
      "cell_type": "markdown",
      "source": [
        "## *function_name(function_to_apply, iterable_of_elements)*  \n",
        "\n",
        "**Map function:**  The first function we'll work with is the map() function. The map() function takes in an iterable (ie. list), and creates a new iterable object, a special map object. The new object has the first-class function applied to every element.\n",
        "\n"
      ]
    },
    {
      "metadata": {
        "id": "0RaY2LMP4WKu",
        "colab_type": "code",
        "colab": {}
      },
      "cell_type": "code",
      "source": [
        "# Pseudocode for map.\n",
        "def map(func, seq):\n",
        "    # Return `Map` object with\n",
        "    # the function applied to every\n",
        "    # element.\n",
        "    return Map(\n",
        "        func(x)\n",
        "        for x in seq\n",
        "    )"
      ],
      "execution_count": 0,
      "outputs": []
    },
    {
      "metadata": {
        "id": "G0m5gt7htHR7",
        "colab_type": "code",
        "colab": {
          "base_uri": "https://localhost:8080/",
          "height": 34
        },
        "outputId": "e35464cc-e33b-43b4-a116-08428f02f869"
      },
      "cell_type": "code",
      "source": [
        "l = [('b', 6), ('a', 10), ('d', 0), ('c', 4)]\n",
        "list(map(lambda x:x[1],l))"
      ],
      "execution_count": 14,
      "outputs": [
        {
          "output_type": "execute_result",
          "data": {
            "text/plain": [
              "[6, 10, 0, 4]"
            ]
          },
          "metadata": {
            "tags": []
          },
          "execution_count": 14
        }
      ]
    },
    {
      "metadata": {
        "id": "v-fBP54UuF4-",
        "colab_type": "text"
      },
      "cell_type": "markdown",
      "source": [
        "Note that it's important to cast the return value from map() as a list object. Using the returned map object is difficult to work with if you're expecting it to function like a list. First, printing it does not show each of its items, and secondly, you can only iterate over it once."
      ]
    },
    {
      "metadata": {
        "id": "9cgUyrhn4bnA",
        "colab_type": "code",
        "colab": {}
      },
      "cell_type": "code",
      "source": [
        ""
      ],
      "execution_count": 0,
      "outputs": []
    },
    {
      "metadata": {
        "id": "UUy8m2VG4b_G",
        "colab_type": "text"
      },
      "cell_type": "markdown",
      "source": [
        "**Filter function:** *italicized text*\n",
        "Filter function takes Firstcalss function and a sequence, Firstclass funtion must return a boolean value. Firsclass function is applied on each element of the sequence and returns a **Map object as output.**"
      ]
    },
    {
      "metadata": {
        "id": "094a-cqSWvfV",
        "colab_type": "code",
        "colab": {
          "base_uri": "https://localhost:8080/",
          "height": 51
        },
        "outputId": "4b90e5ab-63ee-4f9b-d8ab-8088e69690db"
      },
      "cell_type": "code",
      "source": [
        "a = [2, 3, 4, 5, 6, 7, 8, 9, 10]\n",
        "even = list(filter(lambda x: x %2 == 0, a))\n",
        "odd = list(filter(lambda x: x %2 == 1, a))\n",
        "print(even)\n",
        "odd"
      ],
      "execution_count": 6,
      "outputs": [
        {
          "output_type": "stream",
          "text": [
            "[2, 4, 6, 8, 10]\n"
          ],
          "name": "stdout"
        },
        {
          "output_type": "execute_result",
          "data": {
            "text/plain": [
              "[3, 5, 7, 9]"
            ]
          },
          "metadata": {
            "tags": []
          },
          "execution_count": 6
        }
      ]
    },
    {
      "metadata": {
        "id": "s25Wmoox93gT",
        "colab_type": "text"
      },
      "cell_type": "markdown",
      "source": [
        "***Reduce Function:***\n",
        "Reduce function takes firstclass function and a sequence as input and gives **a List outout**. Firstcalss function is applied on two perameters."
      ]
    },
    {
      "metadata": {
        "id": "Xv5ciVFOLFQl",
        "colab_type": "code",
        "colab": {
          "base_uri": "https://localhost:8080/",
          "height": 34
        },
        "outputId": "21d7e359-dcb3-4793-9d2a-1fbc80ca5730"
      },
      "cell_type": "code",
      "source": [
        "from functools import reduce\n",
        "seq = [10, 20, 30, 40, 50, 100]\n",
        "sum = reduce(lambda a, b: a + b, seq)\n",
        "sum"
      ],
      "execution_count": 11,
      "outputs": [
        {
          "output_type": "execute_result",
          "data": {
            "text/plain": [
              "250"
            ]
          },
          "metadata": {
            "tags": []
          },
          "execution_count": 11
        }
      ]
    },
    {
      "metadata": {
        "id": "TNnPWB2rLnVp",
        "colab_type": "text"
      },
      "cell_type": "markdown",
      "source": [
        "![alt text](https://dq-content.s3.amazonaws.com/263/s5_reduce_function.svg)\n",
        "\n",
        "\n",
        "\n"
      ]
    },
    {
      "metadata": {
        "id": "MD3EOgmmPKnI",
        "colab_type": "text"
      },
      "cell_type": "markdown",
      "source": [
        "***Function Partials***\n",
        "Sometimes we want to use the behavior of a function, but decrease the number of arguments it takes. The purpose is to \"save\" one of the inputs, and create a new function that defaults the behavior using the saved input. Suppose we wanted to write a function that would always add 2 to any number:"
      ]
    },
    {
      "metadata": {
        "id": "OhswFQHdLYyY",
        "colab_type": "code",
        "colab": {
          "base_uri": "https://localhost:8080/",
          "height": 34
        },
        "outputId": "593f312c-f968-4dad-a273-09586ae64d74"
      },
      "cell_type": "code",
      "source": [
        "from functools import partial\n",
        "def add(a, b):\n",
        "  return a + b\n",
        "\n",
        "add_two = partial(add, 2)\n",
        "add_two(4)\n",
        "  "
      ],
      "execution_count": 14,
      "outputs": [
        {
          "output_type": "execute_result",
          "data": {
            "text/plain": [
              "6"
            ]
          },
          "metadata": {
            "tags": []
          },
          "execution_count": 14
        }
      ]
    },
    {
      "metadata": {
        "id": "J9GoyLEHPs_1",
        "colab_type": "text"
      },
      "cell_type": "markdown",
      "source": [
        "Function partials comes very handy when you want to control the behaviour of "
      ]
    },
    {
      "metadata": {
        "id": "xtbEwnZXPmGC",
        "colab_type": "code",
        "colab": {}
      },
      "cell_type": "code",
      "source": [
        ""
      ],
      "execution_count": 0,
      "outputs": []
    }
  ]
}