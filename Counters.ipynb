{
  "nbformat": 4,
  "nbformat_minor": 0,
  "metadata": {
    "colab": {
      "name": "Untitled1.ipynb",
      "version": "0.3.2",
      "provenance": [],
      "include_colab_link": true
    },
    "kernelspec": {
      "name": "python3",
      "display_name": "Python 3"
    }
  },
  "cells": [
    {
      "cell_type": "markdown",
      "metadata": {
        "id": "view-in-github",
        "colab_type": "text"
      },
      "source": [
        "[View in Colaboratory](https://colab.research.google.com/github/praveenkanumarlapudi/LearnPythonHardWay/blob/master/Counters.ipynb)"
      ]
    },
    {
      "metadata": {
        "id": "_mAAIMIQapWd",
        "colab_type": "code",
        "colab": {}
      },
      "cell_type": "code",
      "source": [
        ""
      ],
      "execution_count": 0,
      "outputs": []
    },
    {
      "metadata": {
        "id": "9kXvsINyawdZ",
        "colab_type": "text"
      },
      "cell_type": "markdown",
      "source": [
        "# **Counters :**\n",
        "\n",
        "---\n",
        "\n",
        "  Counters allow us to count the occurences of a perticular item."
      ]
    },
    {
      "metadata": {
        "id": "ZyA3Toroa3Ae",
        "colab_type": "code",
        "colab": {}
      },
      "cell_type": "code",
      "source": [
        "from collections import Counter"
      ],
      "execution_count": 0,
      "outputs": []
    },
    {
      "metadata": {
        "id": "xCtGNhqea5BF",
        "colab_type": "code",
        "colab": {}
      },
      "cell_type": "code",
      "source": [
        "colors = (('Pk', 'Black'),\n",
        "          ('Dp', 'White'),\n",
        "          ('Ay', 'Grey'),\n",
        "          ('Ay', 'red'),\n",
        "          ('Ay', 'Blue'))"
      ],
      "execution_count": 0,
      "outputs": []
    },
    {
      "metadata": {
        "id": "uehzlp78a66F",
        "colab_type": "code",
        "colab": {
          "base_uri": "https://localhost:8080/",
          "height": 34
        },
        "outputId": "9edb6e11-5131-40a2-db6c-d3ca8ca0a38f"
      },
      "cell_type": "code",
      "source": [
        "import collections\n",
        "count_name = collections.Counter(name for name, color in colors)\n",
        "count_name"
      ],
      "execution_count": 0,
      "outputs": [
        {
          "output_type": "execute_result",
          "data": {
            "text/plain": [
              "Counter({'Ay': 3, 'Dp': 1, 'Pk': 1})"
            ]
          },
          "metadata": {
            "tags": []
          },
          "execution_count": 8
        }
      ]
    },
    {
      "metadata": {
        "id": "Wp_PcRy-hNvO",
        "colab_type": "code",
        "colab": {
          "base_uri": "https://localhost:8080/",
          "height": 102
        },
        "outputId": "0f3e5df3-8607-4296-e3f8-55e6dd48993a"
      },
      "cell_type": "code",
      "source": [
        "import collections\n",
        "count_all = collections.Counter((name, color) for name, color in colors)\n",
        "count_all"
      ],
      "execution_count": 4,
      "outputs": [
        {
          "output_type": "execute_result",
          "data": {
            "text/plain": [
              "Counter({('Ay', 'Blue'): 1,\n",
              "         ('Ay', 'Grey'): 1,\n",
              "         ('Ay', 'red'): 1,\n",
              "         ('Dp', 'White'): 1,\n",
              "         ('Pk', 'Black'): 1})"
            ]
          },
          "metadata": {
            "tags": []
          },
          "execution_count": 4
        }
      ]
    },
    {
      "metadata": {
        "id": "Rmb7fwXomk4l",
        "colab_type": "code",
        "colab": {}
      },
      "cell_type": "code",
      "source": [
        ""
      ],
      "execution_count": 0,
      "outputs": []
    }
  ]
}