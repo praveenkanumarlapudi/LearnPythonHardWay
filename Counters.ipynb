{
  "nbformat": 4,
  "nbformat_minor": 0,
  "metadata": {
    "colab": {
      "name": "Untitled1.ipynb",
      "version": "0.3.2",
      "provenance": [],
      "include_colab_link": true
    },
    "kernelspec": {
      "name": "python3",
      "display_name": "Python 3"
    }
  },
  "cells": [
    {
      "cell_type": "markdown",
      "metadata": {
        "id": "view-in-github",
        "colab_type": "text"
      },
      "source": [
        "[View in Colaboratory](https://colab.research.google.com/github/praveenkanumarlapudi/LearnPythonHardWay/blob/master/Counters.ipynb)"
      ]
    },
    {
      "metadata": {
        "id": "_mAAIMIQapWd",
        "colab_type": "code",
        "colab": {}
      },
      "cell_type": "code",
      "source": [
        ""
      ],
      "execution_count": 0,
      "outputs": []
    },
    {
      "metadata": {
        "id": "9kXvsINyawdZ",
        "colab_type": "text"
      },
      "cell_type": "markdown",
      "source": [
        "# **Counters :**\n",
        "\n",
        "---\n",
        "\n",
        "  Counters allow us to count the occurences of a perticular item."
      ]
    },
    {
      "metadata": {
        "id": "ZyA3Toroa3Ae",
        "colab_type": "code",
        "colab": {}
      },
      "cell_type": "code",
      "source": [
        "from collections import Counter"
      ],
      "execution_count": 0,
      "outputs": []
    },
    {
      "metadata": {
        "id": "xCtGNhqea5BF",
        "colab_type": "code",
        "colab": {}
      },
      "cell_type": "code",
      "source": [
        "colors = (('Pk', 'Black'),\n",
        "          ('Dp', 'White'),\n",
        "          ('Ay', 'Grey'),\n",
        "          ('Ay', 'red'),\n",
        "          ('Ay', 'Blue'))"
      ],
      "execution_count": 0,
      "outputs": []
    },
    {
      "metadata": {
        "id": "uehzlp78a66F",
        "colab_type": "code",
        "colab": {
          "base_uri": "https://localhost:8080/",
          "height": 34
        },
        "outputId": "9edb6e11-5131-40a2-db6c-d3ca8ca0a38f"
      },
      "cell_type": "code",
      "source": [
        "import collections\n",
        "count_name = collections.Counter(name for name, color in colors)\n",
        "count_name"
      ],
      "execution_count": 8,
      "outputs": [
        {
          "output_type": "execute_result",
          "data": {
            "text/plain": [
              "Counter({'Ay': 3, 'Dp': 1, 'Pk': 1})"
            ]
          },
          "metadata": {
            "tags": []
          },
          "execution_count": 8
        }
      ]
    },
    {
      "metadata": {
        "id": "Wp_PcRy-hNvO",
        "colab_type": "code",
        "colab": {}
      },
      "cell_type": "code",
      "source": [
        ""
      ],
      "execution_count": 0,
      "outputs": []
    }
  ]
}